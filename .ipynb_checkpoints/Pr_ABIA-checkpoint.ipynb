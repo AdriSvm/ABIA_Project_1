{
 "cells": [
  {
   "cell_type": "markdown",
   "id": "cc44d8fd",
   "metadata": {},
   "source": [
    "# ABIA : PRÀCTICA 1"
   ]
  },
  {
   "cell_type": "markdown",
   "id": "b4088fdc",
   "metadata": {},
   "source": [
    "## IMPORTS DE LLIBRERIES"
   ]
  },
  {
   "cell_type": "code",
   "execution_count": 1,
   "id": "c670472a",
   "metadata": {},
   "outputs": [],
   "source": [
    "from abia_energia import *\n",
    "from math import sqrt\n",
    "from typing import List, Generator, Set\n",
    "import timeit\n",
    "from search import Problem, hill_climbing"
   ]
  },
  {
   "cell_type": "markdown",
   "id": "1dd8a48a",
   "metadata": {},
   "source": [
    "## PARÀMETRES"
   ]
  },
  {
   "cell_type": "code",
   "execution_count": 2,
   "id": "b3df3ad4",
   "metadata": {},
   "outputs": [],
   "source": [
    "class Parameters():\n",
    "    def __init__(self, n_c, n_cl, propc, propg, seed):\n",
    "        self.n_c = n_c\n",
    "        self.n_cl = n_cl\n",
    "        self.propc = propc\n",
    "        self.propg = propg\n",
    "        self.seed = seed"
   ]
  },
  {
   "cell_type": "markdown",
   "id": "9428fbaf",
   "metadata": {},
   "source": [
    "## OPERATORS"
   ]
  },
  {
   "cell_type": "code",
   "execution_count": 3,
   "id": "e807a872",
   "metadata": {},
   "outputs": [],
   "source": [
    "class Operators():\n",
    "    pass\n",
    "\n",
    "\n",
    "class SwapClients(Operators):\n",
    "    def __init__(self, cl1: int, cent1: int, cl2: int, cent2: int):\n",
    "        self.cl1 = cl1\n",
    "        self.cl2 = cl2\n",
    "        self.cent1 = cent1\n",
    "        self.cent2 = cent2\n",
    "\n",
    "    def __repr__(self) -> str:\n",
    "        return f\" | Swap clients {self.cl1} from {self.cent1} and {self.cl2} from {self.cent2}\"\n",
    "\n",
    "\n",
    "class SwapState(Operators):\n",
    "    def __init__(self, ce:int, estate: bool):\n",
    "        self.ce = ce\n",
    "        self.estate = estate\n",
    "\n",
    "    def __repr__(self) -> str:\n",
    "        return f\" | Central {self.ce} changed its state to {self.estate}\"\n",
    "\n",
    "\n",
    "class MoveClient(Operators):\n",
    "    def __init__(self, cl: int, cent1: int, cent2: int):\n",
    "        self.cl = cl\n",
    "        self.cent1 = cent1\n",
    "        self.cent2 = cent2\n",
    "\n",
    "    def __repr__(self) -> str:\n",
    "        return f\" | Client {self.cl} changed central {self.cent1} to central{self.cent2}\""
   ]
  },
  {
   "cell_type": "markdown",
   "id": "6f4f7eb1",
   "metadata": {},
   "source": [
    "## STATE REPRESENTATION"
   ]
  },
  {
   "cell_type": "code",
   "execution_count": 4,
   "id": "57ea56d8",
   "metadata": {},
   "outputs": [],
   "source": [
    "class StateRepresentation(object):\n",
    "    def __init__(self, clients, centrals, dict ):\n",
    "        self.clients = clients\n",
    "        self.centrals = centrals\n",
    "        self.dict = dict\n",
    "        \n",
    "        \n",
    "    def copy(self):\n",
    "        new_dict = {x:self.dict[x].copy() for x in self.dict}\n",
    "        return StateRepresentation(self.clients,self.centrals,new_dict)\n",
    "    \n",
    "    \n",
    "    def __repr__(self) -> str:\n",
    "        lst = []\n",
    "        for i in range(len(self.centrals)):\n",
    "            #lst.append((self.centrals[i], [self.clients[x] for x in self.dict[i]]))\n",
    "            lst.append((i, [x for x in self.dict[i]]))\n",
    "        return f\"Llista de tuples on el primer element és la central i el segon la llista de clients que té assignats: \\n {lst}\"\n",
    "\n",
    "    def generate_actions(self):\n",
    "        #Swap central state\n",
    "        for c in self.dict:\n",
    "            if len(self.dict[c]) == 0:\n",
    "                #self.centrals[c].Estado = False\n",
    "                yield SwapState(c,False)\n",
    "            else:\n",
    "                if self.centrals[c].Estado == False:\n",
    "                    #self.centrals[c].Estado = True\n",
    "                    yield SwapState(c, True)\n",
    "                else:\n",
    "                    exists_granted = False\n",
    "                    for x in self.dict[c]:\n",
    "                        if self.clients[x].Contrato == 0 and not exists_granted:\n",
    "                            exists_granted = True\n",
    "                            #self.centrals[c].Estado = True\n",
    "                    if not exists_granted:\n",
    "                        yield SwapState(c, False)\n",
    "                    else:\n",
    "                        yield SwapState(c, True)\n",
    "                        \n",
    "\n",
    "                    \n",
    "\n",
    "        #Move client to another central\n",
    "        for c in self.dict:\n",
    "            for cl in self.dict[c]:\n",
    "                for c1 in self.dict:\n",
    "                    if c1 != c:\n",
    "                        pl = power_left(c1, self.dict, self.clients, self.centrals)\n",
    "                        if clients_power(c1, self.dict, self.clients, self.centrals) <  pl and pl > 0:\n",
    "                            yield MoveClient(cl,c,c1)\n",
    "        \"\"\"\n",
    "        #Echange two clients\n",
    "        for central in self.dict:\n",
    "            for client in self.dict[central]:\n",
    "                for sec_central in self.dict:\n",
    "                    if sec_central != central:\n",
    "                        for sec_client in self.dict[sec_central]:\n",
    "                            if sec_client != client:\n",
    "                                pl1=power_left(sec_central, self.dict, self.clients, self.centrals)\n",
    "                                pl2=power_left(central, self.dict, self.clients, self.centrals)\n",
    "                                if clients_power(client, self.dict, self.clients, self.centrals) < pl1 \\\n",
    "                                    and clients_power(sec_client, self.dict, self.clients, self.centrals) < pl2  and pl1 > 0 and pl2 > 0:\n",
    "                                    yield SwapClients(client,central,sec_client,sec_central)\n",
    "                                    \n",
    "        \"\"\"\n",
    "\n",
    "    def apply_action(self, action):\n",
    "        new_state = self.copy()\n",
    "        \n",
    "        if isinstance(action,SwapState):\n",
    "            ce = action.ce\n",
    "            estate = action.estate\n",
    "            new_state.centrals[ce].Estado = estate\n",
    "\n",
    "        elif isinstance(action,MoveClient):\n",
    "            cl = action.cl\n",
    "            ce1 = action.cent1\n",
    "            ce2 = action.cent2\n",
    "\n",
    "            new_state.dict[ce1].remove(cl)\n",
    "            new_state.dict[ce2].add(cl)\n",
    "\n",
    "        elif isinstance(action, SwapClients):\n",
    "            cl1 = action.cl1\n",
    "            cl2 = action.cl2\n",
    "            ce1 = action.cent1\n",
    "            ce2 = action.cent2\n",
    "\n",
    "            new_state.dict[ce1].remove(cl1)\n",
    "            new_state.dict[ce2].remove(cl2)\n",
    "            new_state.dict[ce1].add(cl2)\n",
    "            new_state.dict[ce2].add(cl1)\n",
    "        return new_state\n",
    "\n",
    "    def heuristic(self) -> float:\n",
    "        gains = 0\n",
    "        \n",
    "        for c in self.dict:\n",
    "            for cl in self.dict[c]:\n",
    "                client = self.clients[cl]\n",
    "                type = client.Tipo\n",
    "                consump = client.Consumo\n",
    "                deal = client.Contrato\n",
    "                if self.centrals[c].Estado == False:\n",
    "                    gains -= VEnergia.tarifa_cliente_penalizacion(type) * consump\n",
    "                else:\n",
    "                    if deal == 0:\n",
    "                        gains += VEnergia.tarifa_cliente_garantizada(type) * consump\n",
    "                    else:\n",
    "                        gains += VEnergia.tarifa_cliente_no_garantizada(type) * consump\n",
    "\n",
    "            if self.centrals[c].Estado == False:\n",
    "                gains -= VEnergia.stop_cost(self.centrals[c].Tipo)\n",
    "                \n",
    "            else:\n",
    "                gains -= VEnergia.daily_cost(self.centrals[c].Tipo)\n",
    "                gains -= VEnergia.costs_production_mw(self.centrals[c].Tipo) * self.centrals[c].Produccion\n",
    "                    \n",
    "\n",
    "        return gains"
   ]
  },
  {
   "cell_type": "markdown",
   "id": "40b14c0e",
   "metadata": {},
   "source": [
    "## GENERATIVE FUNCTION"
   ]
  },
  {
   "cell_type": "code",
   "execution_count": 5,
   "id": "d524edc8",
   "metadata": {},
   "outputs": [],
   "source": [
    "def generate_initial_state(params):\n",
    "    clients = Clientes(params.n_cl,params.propc,params.propg,params.seed)\n",
    "    centrals = Centrales(params.n_c,params.seed)\n",
    "    state_dict = {i: set() for i in range(len(centrals))}\n",
    "\n",
    "    for c in centrals:\n",
    "        c.Estado = True\n",
    "\n",
    "    i = 0\n",
    "    c = 0\n",
    "    while c <= len(centrals)-1 and i <= len(clients)-1:\n",
    "        full = False\n",
    "        while not full and i <= len(clients)-1:\n",
    "            if power_left(c,state_dict,clients,centrals) < clients_power(i,state_dict,clients,centrals,c):\n",
    "                full = True\n",
    "            else:\n",
    "                state_dict[c].add(i)\n",
    "                i += 1\n",
    "        c += 1\n",
    "\n",
    "    return StateRepresentation(clients,centrals,state_dict)"
   ]
  },
  {
   "cell_type": "markdown",
   "id": "b8853a04",
   "metadata": {},
   "source": [
    "## FUNCIONES DE SOPORTE"
   ]
  },
  {
   "cell_type": "code",
   "execution_count": 6,
   "id": "7c1b0720",
   "metadata": {},
   "outputs": [],
   "source": [
    "def distance(a:tuple,b:tuple) -> float:\n",
    "    return sqrt(((a[0]-b[0])**2) + ((a[1]-b[1])**2))\n",
    "\n",
    "def clients_power(client:int, dicc:dict, clients:list, centrals: list, central = None) -> float:\n",
    "    if central == None:\n",
    "        for c in dicc:\n",
    "            if client in dicc[c]:\n",
    "                central = c\n",
    "                break\n",
    "    c_coords = (clients[client].CoordX, clients[client].CoordY)\n",
    "    cl_coords = (centrals[central].CoordX, centrals[central].CoordY)\n",
    "    dist = distance(c_coords,cl_coords)\n",
    "    reduction = VEnergia.loss(dist)\n",
    "    client_power = clients[client].Consumo +  (clients[client].Consumo * reduction)\n",
    "\n",
    "    assert client_power >= clients[client].Consumo\n",
    "    return client_power\n",
    "\n",
    "\n",
    "def power_left(central:int, dicc:dict, clients:list, centrals:list) -> float:\n",
    "    power_left = centrals[central].Produccion\n",
    "    for cl in dicc[central]:\n",
    "        power_left -= clients_power(cl,dicc,clients,centrals,central)\n",
    "\n",
    "    return power_left"
   ]
  },
  {
   "cell_type": "markdown",
   "id": "ee4fc2d5",
   "metadata": {},
   "source": [
    "## PROBLEM"
   ]
  },
  {
   "cell_type": "code",
   "execution_count": 7,
   "id": "c3937c4a",
   "metadata": {},
   "outputs": [],
   "source": [
    "class CentralDistributionProblem(Problem):\n",
    "    def __init__(self, initial_state):\n",
    "        super().__init__(initial_state)\n",
    "\n",
    "    def actions(self, state):\n",
    "        return state.generate_actions()\n",
    "\n",
    "    def result(self, state, action):\n",
    "        return state.apply_action(action)\n",
    "\n",
    "    def value(self, state) -> float:\n",
    "        return -state.heuristic()\n",
    "\n",
    "    def goal_test(self, state) -> bool:\n",
    "        return False"
   ]
  },
  {
   "cell_type": "markdown",
   "id": "8420552f",
   "metadata": {},
   "source": [
    "## PRUEBAS"
   ]
  },
  {
   "cell_type": "code",
   "execution_count": 8,
   "id": "67746525",
   "metadata": {},
   "outputs": [
    {
     "ename": "KeyboardInterrupt",
     "evalue": "",
     "output_type": "error",
     "traceback": [
      "\u001b[1;31m---------------------------------------------------------------------------\u001b[0m",
      "\u001b[1;31mKeyboardInterrupt\u001b[0m                         Traceback (most recent call last)",
      "\u001b[1;32m~\\AppData\\Local\\Temp/ipykernel_14944/3559211719.py\u001b[0m in \u001b[0;36m<module>\u001b[1;34m\u001b[0m\n\u001b[0;32m      1\u001b[0m \u001b[0minitial_state\u001b[0m \u001b[1;33m=\u001b[0m \u001b[0mgenerate_initial_state\u001b[0m\u001b[1;33m(\u001b[0m\u001b[0mParameters\u001b[0m\u001b[1;33m(\u001b[0m\u001b[1;33m[\u001b[0m\u001b[1;36m1\u001b[0m\u001b[1;33m,\u001b[0m \u001b[1;36m5\u001b[0m\u001b[1;33m,\u001b[0m \u001b[1;36m20\u001b[0m\u001b[1;33m]\u001b[0m\u001b[1;33m,\u001b[0m\u001b[1;36m100\u001b[0m\u001b[1;33m,\u001b[0m \u001b[1;33m[\u001b[0m\u001b[1;36m0.2\u001b[0m\u001b[1;33m,\u001b[0m \u001b[1;36m0.3\u001b[0m\u001b[1;33m,\u001b[0m \u001b[1;36m0.5\u001b[0m\u001b[1;33m]\u001b[0m\u001b[1;33m,\u001b[0m \u001b[1;36m0.5\u001b[0m\u001b[1;33m,\u001b[0m \u001b[1;36m42\u001b[0m\u001b[1;33m)\u001b[0m\u001b[1;33m)\u001b[0m\u001b[1;33m\u001b[0m\u001b[1;33m\u001b[0m\u001b[0m\n\u001b[1;32m----> 2\u001b[1;33m \u001b[0mn\u001b[0m \u001b[1;33m=\u001b[0m \u001b[0mhill_climbing\u001b[0m\u001b[1;33m(\u001b[0m\u001b[0mCentralDistributionProblem\u001b[0m\u001b[1;33m(\u001b[0m\u001b[0minitial_state\u001b[0m\u001b[1;33m)\u001b[0m\u001b[1;33m)\u001b[0m\u001b[1;33m\u001b[0m\u001b[1;33m\u001b[0m\u001b[0m\n\u001b[0m\u001b[0;32m      3\u001b[0m \u001b[0mprint\u001b[0m\u001b[1;33m(\u001b[0m\u001b[0mn\u001b[0m\u001b[1;33m)\u001b[0m\u001b[1;33m\u001b[0m\u001b[1;33m\u001b[0m\u001b[0m\n",
      "\u001b[1;32m~\\Desktop\\Pràctica_ABIA\\ABIA_Project_1\\search.py\u001b[0m in \u001b[0;36mhill_climbing\u001b[1;34m(problem)\u001b[0m\n\u001b[0;32m    645\u001b[0m         \u001b[1;32mif\u001b[0m \u001b[1;32mnot\u001b[0m \u001b[0mneighbors\u001b[0m\u001b[1;33m:\u001b[0m\u001b[1;33m\u001b[0m\u001b[1;33m\u001b[0m\u001b[0m\n\u001b[0;32m    646\u001b[0m             \u001b[1;32mbreak\u001b[0m\u001b[1;33m\u001b[0m\u001b[1;33m\u001b[0m\u001b[0m\n\u001b[1;32m--> 647\u001b[1;33m         \u001b[0mneighbor\u001b[0m \u001b[1;33m=\u001b[0m \u001b[0margmax_random_tie\u001b[0m\u001b[1;33m(\u001b[0m\u001b[0mneighbors\u001b[0m\u001b[1;33m,\u001b[0m \u001b[0mkey\u001b[0m\u001b[1;33m=\u001b[0m\u001b[1;32mlambda\u001b[0m \u001b[0mnode\u001b[0m\u001b[1;33m:\u001b[0m \u001b[0mproblem\u001b[0m\u001b[1;33m.\u001b[0m\u001b[0mvalue\u001b[0m\u001b[1;33m(\u001b[0m\u001b[0mnode\u001b[0m\u001b[1;33m.\u001b[0m\u001b[0mstate\u001b[0m\u001b[1;33m)\u001b[0m\u001b[1;33m)\u001b[0m\u001b[1;33m\u001b[0m\u001b[1;33m\u001b[0m\u001b[0m\n\u001b[0m\u001b[0;32m    648\u001b[0m         \u001b[1;32mif\u001b[0m \u001b[0mproblem\u001b[0m\u001b[1;33m.\u001b[0m\u001b[0mvalue\u001b[0m\u001b[1;33m(\u001b[0m\u001b[0mneighbor\u001b[0m\u001b[1;33m.\u001b[0m\u001b[0mstate\u001b[0m\u001b[1;33m)\u001b[0m \u001b[1;33m<=\u001b[0m \u001b[0mproblem\u001b[0m\u001b[1;33m.\u001b[0m\u001b[0mvalue\u001b[0m\u001b[1;33m(\u001b[0m\u001b[0mcurrent\u001b[0m\u001b[1;33m.\u001b[0m\u001b[0mstate\u001b[0m\u001b[1;33m)\u001b[0m\u001b[1;33m:\u001b[0m\u001b[1;33m\u001b[0m\u001b[1;33m\u001b[0m\u001b[0m\n\u001b[0;32m    649\u001b[0m             \u001b[1;32mbreak\u001b[0m\u001b[1;33m\u001b[0m\u001b[1;33m\u001b[0m\u001b[0m\n",
      "\u001b[1;32m~\\Desktop\\Pràctica_ABIA\\ABIA_Project_1\\utils.py\u001b[0m in \u001b[0;36margmax_random_tie\u001b[1;34m(seq, key)\u001b[0m\n\u001b[0;32m    113\u001b[0m \u001b[1;32mdef\u001b[0m \u001b[0margmax_random_tie\u001b[0m\u001b[1;33m(\u001b[0m\u001b[0mseq\u001b[0m\u001b[1;33m,\u001b[0m \u001b[0mkey\u001b[0m\u001b[1;33m=\u001b[0m\u001b[0midentity\u001b[0m\u001b[1;33m)\u001b[0m\u001b[1;33m:\u001b[0m\u001b[1;33m\u001b[0m\u001b[1;33m\u001b[0m\u001b[0m\n\u001b[0;32m    114\u001b[0m     \u001b[1;34m\"\"\"Return an element with highest fn(seq[i]) score; break ties at random.\"\"\"\u001b[0m\u001b[1;33m\u001b[0m\u001b[1;33m\u001b[0m\u001b[0m\n\u001b[1;32m--> 115\u001b[1;33m     \u001b[1;32mreturn\u001b[0m \u001b[0mmax\u001b[0m\u001b[1;33m(\u001b[0m\u001b[0mshuffled\u001b[0m\u001b[1;33m(\u001b[0m\u001b[0mseq\u001b[0m\u001b[1;33m)\u001b[0m\u001b[1;33m,\u001b[0m \u001b[0mkey\u001b[0m\u001b[1;33m=\u001b[0m\u001b[0mkey\u001b[0m\u001b[1;33m)\u001b[0m\u001b[1;33m\u001b[0m\u001b[1;33m\u001b[0m\u001b[0m\n\u001b[0m\u001b[0;32m    116\u001b[0m \u001b[1;33m\u001b[0m\u001b[0m\n\u001b[0;32m    117\u001b[0m \u001b[1;33m\u001b[0m\u001b[0m\n",
      "\u001b[1;32m~\\Desktop\\Pràctica_ABIA\\ABIA_Project_1\\search.py\u001b[0m in \u001b[0;36m<lambda>\u001b[1;34m(node)\u001b[0m\n\u001b[0;32m    645\u001b[0m         \u001b[1;32mif\u001b[0m \u001b[1;32mnot\u001b[0m \u001b[0mneighbors\u001b[0m\u001b[1;33m:\u001b[0m\u001b[1;33m\u001b[0m\u001b[1;33m\u001b[0m\u001b[0m\n\u001b[0;32m    646\u001b[0m             \u001b[1;32mbreak\u001b[0m\u001b[1;33m\u001b[0m\u001b[1;33m\u001b[0m\u001b[0m\n\u001b[1;32m--> 647\u001b[1;33m         \u001b[0mneighbor\u001b[0m \u001b[1;33m=\u001b[0m \u001b[0margmax_random_tie\u001b[0m\u001b[1;33m(\u001b[0m\u001b[0mneighbors\u001b[0m\u001b[1;33m,\u001b[0m \u001b[0mkey\u001b[0m\u001b[1;33m=\u001b[0m\u001b[1;32mlambda\u001b[0m \u001b[0mnode\u001b[0m\u001b[1;33m:\u001b[0m \u001b[0mproblem\u001b[0m\u001b[1;33m.\u001b[0m\u001b[0mvalue\u001b[0m\u001b[1;33m(\u001b[0m\u001b[0mnode\u001b[0m\u001b[1;33m.\u001b[0m\u001b[0mstate\u001b[0m\u001b[1;33m)\u001b[0m\u001b[1;33m)\u001b[0m\u001b[1;33m\u001b[0m\u001b[1;33m\u001b[0m\u001b[0m\n\u001b[0m\u001b[0;32m    648\u001b[0m         \u001b[1;32mif\u001b[0m \u001b[0mproblem\u001b[0m\u001b[1;33m.\u001b[0m\u001b[0mvalue\u001b[0m\u001b[1;33m(\u001b[0m\u001b[0mneighbor\u001b[0m\u001b[1;33m.\u001b[0m\u001b[0mstate\u001b[0m\u001b[1;33m)\u001b[0m \u001b[1;33m<=\u001b[0m \u001b[0mproblem\u001b[0m\u001b[1;33m.\u001b[0m\u001b[0mvalue\u001b[0m\u001b[1;33m(\u001b[0m\u001b[0mcurrent\u001b[0m\u001b[1;33m.\u001b[0m\u001b[0mstate\u001b[0m\u001b[1;33m)\u001b[0m\u001b[1;33m:\u001b[0m\u001b[1;33m\u001b[0m\u001b[1;33m\u001b[0m\u001b[0m\n\u001b[0;32m    649\u001b[0m             \u001b[1;32mbreak\u001b[0m\u001b[1;33m\u001b[0m\u001b[1;33m\u001b[0m\u001b[0m\n",
      "\u001b[1;32m~\\AppData\\Local\\Temp/ipykernel_14944/3130845234.py\u001b[0m in \u001b[0;36mvalue\u001b[1;34m(self, state)\u001b[0m\n\u001b[0;32m     10\u001b[0m \u001b[1;33m\u001b[0m\u001b[0m\n\u001b[0;32m     11\u001b[0m     \u001b[1;32mdef\u001b[0m \u001b[0mvalue\u001b[0m\u001b[1;33m(\u001b[0m\u001b[0mself\u001b[0m\u001b[1;33m,\u001b[0m \u001b[0mstate\u001b[0m\u001b[1;33m)\u001b[0m \u001b[1;33m->\u001b[0m \u001b[0mfloat\u001b[0m\u001b[1;33m:\u001b[0m\u001b[1;33m\u001b[0m\u001b[1;33m\u001b[0m\u001b[0m\n\u001b[1;32m---> 12\u001b[1;33m         \u001b[1;32mreturn\u001b[0m \u001b[1;33m-\u001b[0m\u001b[0mstate\u001b[0m\u001b[1;33m.\u001b[0m\u001b[0mheuristic\u001b[0m\u001b[1;33m(\u001b[0m\u001b[1;33m)\u001b[0m\u001b[1;33m\u001b[0m\u001b[1;33m\u001b[0m\u001b[0m\n\u001b[0m\u001b[0;32m     13\u001b[0m \u001b[1;33m\u001b[0m\u001b[0m\n\u001b[0;32m     14\u001b[0m     \u001b[1;32mdef\u001b[0m \u001b[0mgoal_test\u001b[0m\u001b[1;33m(\u001b[0m\u001b[0mself\u001b[0m\u001b[1;33m,\u001b[0m \u001b[0mstate\u001b[0m\u001b[1;33m)\u001b[0m \u001b[1;33m->\u001b[0m \u001b[0mbool\u001b[0m\u001b[1;33m:\u001b[0m\u001b[1;33m\u001b[0m\u001b[1;33m\u001b[0m\u001b[0m\n",
      "\u001b[1;32m~\\AppData\\Local\\Temp/ipykernel_14944/1448258462.py\u001b[0m in \u001b[0;36mheuristic\u001b[1;34m(self)\u001b[0m\n\u001b[0;32m    112\u001b[0m \u001b[1;33m\u001b[0m\u001b[0m\n\u001b[0;32m    113\u001b[0m             \u001b[1;32mif\u001b[0m \u001b[0mself\u001b[0m\u001b[1;33m.\u001b[0m\u001b[0mcentrals\u001b[0m\u001b[1;33m[\u001b[0m\u001b[0mc\u001b[0m\u001b[1;33m]\u001b[0m\u001b[1;33m.\u001b[0m\u001b[0mEstado\u001b[0m \u001b[1;33m==\u001b[0m \u001b[1;32mFalse\u001b[0m\u001b[1;33m:\u001b[0m\u001b[1;33m\u001b[0m\u001b[1;33m\u001b[0m\u001b[0m\n\u001b[1;32m--> 114\u001b[1;33m                 \u001b[0mgains\u001b[0m \u001b[1;33m-=\u001b[0m \u001b[0mVEnergia\u001b[0m\u001b[1;33m.\u001b[0m\u001b[0mstop_cost\u001b[0m\u001b[1;33m(\u001b[0m\u001b[0mself\u001b[0m\u001b[1;33m.\u001b[0m\u001b[0mcentrals\u001b[0m\u001b[1;33m[\u001b[0m\u001b[0mc\u001b[0m\u001b[1;33m]\u001b[0m\u001b[1;33m.\u001b[0m\u001b[0mTipo\u001b[0m\u001b[1;33m)\u001b[0m\u001b[1;33m\u001b[0m\u001b[1;33m\u001b[0m\u001b[0m\n\u001b[0m\u001b[0;32m    115\u001b[0m \u001b[1;33m\u001b[0m\u001b[0m\n\u001b[0;32m    116\u001b[0m             \u001b[1;32melse\u001b[0m\u001b[1;33m:\u001b[0m\u001b[1;33m\u001b[0m\u001b[1;33m\u001b[0m\u001b[0m\n",
      "\u001b[1;31mKeyboardInterrupt\u001b[0m: "
     ]
    }
   ],
   "source": [
    "initial_state = generate_initial_state(Parameters([1, 5, 20],100, [0.2, 0.3, 0.5], 0.5, 42))\n",
    "n = hill_climbing(CentralDistributionProblem(initial_state))\n",
    "print(n)"
   ]
  }
 ],
 "metadata": {
  "kernelspec": {
   "display_name": "Python 3 (ipykernel)",
   "language": "python",
   "name": "python3"
  },
  "language_info": {
   "codemirror_mode": {
    "name": "ipython",
    "version": 3
   },
   "file_extension": ".py",
   "mimetype": "text/x-python",
   "name": "python",
   "nbconvert_exporter": "python",
   "pygments_lexer": "ipython3",
   "version": "3.7.9"
  }
 },
 "nbformat": 4,
 "nbformat_minor": 5
}
